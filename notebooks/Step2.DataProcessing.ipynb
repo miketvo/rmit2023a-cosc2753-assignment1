{
 "cells": [
  {
   "cell_type": "markdown",
   "source": [
    "# Step 1: Data Processing\n",
    "\n",
    "---\n",
    "\n",
    "1. [Initial Preparation](#initial-preparation)\n",
    "2. [Baseline Model](#baseline-model)\n",
    "3. Data Cleaning\n",
    "4. Data Transformation"
   ],
   "metadata": {
    "collapsed": false
   }
  },
  {
   "cell_type": "code",
   "execution_count": 1,
   "outputs": [],
   "source": [
    "# Imports and environment setup\n",
    "\n",
    "import pandas as pd\n",
    "import numpy as np\n",
    "import matplotlib.pyplot as plt\n",
    "from matplotlib import ticker\n",
    "import seaborn as sns\n",
    "\n",
    "from utils import header\n",
    "from utils import show_distribution\n",
    "from utils import show_aggregate_distribution\n",
    "\n",
    "plt.style.use('ggplot')"
   ],
   "metadata": {
    "collapsed": false,
    "ExecuteTime": {
     "start_time": "2023-04-08T11:38:53.536540Z",
     "end_time": "2023-04-08T11:38:53.540083Z"
    }
   }
  },
  {
   "cell_type": "markdown",
   "source": [
    "## 1. Initial Preparation<a id=\"initial-preparation\">\n",
    "\n",
    "As discussed in [Step 1. EDA](./Step1.EDA.ipynb)"
   ],
   "metadata": {
    "collapsed": false
   }
  },
  {
   "cell_type": "code",
   "execution_count": 2,
   "metadata": {
    "collapsed": true,
    "ExecuteTime": {
     "start_time": "2023-04-08T11:38:53.541083Z",
     "end_time": "2023-04-08T11:38:53.554180Z"
    }
   },
   "outputs": [],
   "source": [
    "# Load datasets\n",
    "df_train = pd.read_csv(\"../data/Paitients_Files_Train.csv\")\n",
    "df_test = pd.read_csv(\"../data/Paitients_Files_Test.csv\")\n",
    "\n",
    "# Dropping unused columns\n",
    "df_train = df_train.drop(columns=['ID', 'Insurance'])  # Unused col\n",
    "df_test = df_test.drop(columns=['ID', 'Insurance'])    # Unused col\n",
    "\n",
    "# Fix incorrect column name spelling, because I am very particular about grammar and spelling :)\n",
    "df_train = df_train.rename(columns={\"Sepssis\": \"Sepsis\"})\n",
    "\n",
    "# Turn categorical values in the target Sepsis column into numerical values so that our model can work with the data\n",
    "df_train[\"Sepsis\"] = df_train[\"Sepsis\"].map({\"Negative\": 0.0, \"Positive\": 1.0})"
   ]
  },
  {
   "cell_type": "code",
   "execution_count": 4,
   "outputs": [
    {
     "name": "stdout",
     "output_type": "stream",
     "text": [
      "╔═══════╗\n",
      "║ SHAPE ║\n",
      "╚═══════╝\n",
      "(599, 9)\n",
      "\n",
      "╔═════════════════╗\n",
      "║   NULL COUNT    ║\n",
      "╚═════════════════╝\n",
      "PRG       0\n",
      "PL        0\n",
      "PR        0\n",
      "SK        0\n",
      "TS        0\n",
      "M11       0\n",
      "BD2       0\n",
      "Age       0\n",
      "Sepsis    0\n",
      "dtype: int64\n",
      "\n",
      "╔═════════════════════════════════════╗\n",
      "║          COLUMNS OVERVIEW           ║\n",
      "╚═════════════════════════════════════╝\n",
      "<class 'pandas.core.frame.DataFrame'>\n",
      "RangeIndex: 599 entries, 0 to 598\n",
      "Data columns (total 9 columns):\n",
      " #   Column  Non-Null Count  Dtype  \n",
      "---  ------  --------------  -----  \n",
      " 0   PRG     599 non-null    int64  \n",
      " 1   PL      599 non-null    int64  \n",
      " 2   PR      599 non-null    int64  \n",
      " 3   SK      599 non-null    int64  \n",
      " 4   TS      599 non-null    int64  \n",
      " 5   M11     599 non-null    float64\n",
      " 6   BD2     599 non-null    float64\n",
      " 7   Age     599 non-null    int64  \n",
      " 8   Sepsis  599 non-null    float64\n",
      "dtypes: float64(3), int64(6)\n",
      "memory usage: 42.2 KB\n",
      "None\n"
     ]
    },
    {
     "data": {
      "text/plain": "   PRG   PL  PR  SK   TS   M11    BD2  Age  Sepsis\n0    6  148  72  35    0  33.6  0.627   50     1.0\n1    1   85  66  29    0  26.6  0.351   31     0.0\n2    8  183  64   0    0  23.3  0.672   32     1.0\n3    1   89  66  23   94  28.1  0.167   21     0.0\n4    0  137  40  35  168  43.1  2.288   33     1.0",
      "text/html": "<div>\n<style scoped>\n    .dataframe tbody tr th:only-of-type {\n        vertical-align: middle;\n    }\n\n    .dataframe tbody tr th {\n        vertical-align: top;\n    }\n\n    .dataframe thead th {\n        text-align: right;\n    }\n</style>\n<table border=\"1\" class=\"dataframe\">\n  <thead>\n    <tr style=\"text-align: right;\">\n      <th></th>\n      <th>PRG</th>\n      <th>PL</th>\n      <th>PR</th>\n      <th>SK</th>\n      <th>TS</th>\n      <th>M11</th>\n      <th>BD2</th>\n      <th>Age</th>\n      <th>Sepsis</th>\n    </tr>\n  </thead>\n  <tbody>\n    <tr>\n      <th>0</th>\n      <td>6</td>\n      <td>148</td>\n      <td>72</td>\n      <td>35</td>\n      <td>0</td>\n      <td>33.6</td>\n      <td>0.627</td>\n      <td>50</td>\n      <td>1.0</td>\n    </tr>\n    <tr>\n      <th>1</th>\n      <td>1</td>\n      <td>85</td>\n      <td>66</td>\n      <td>29</td>\n      <td>0</td>\n      <td>26.6</td>\n      <td>0.351</td>\n      <td>31</td>\n      <td>0.0</td>\n    </tr>\n    <tr>\n      <th>2</th>\n      <td>8</td>\n      <td>183</td>\n      <td>64</td>\n      <td>0</td>\n      <td>0</td>\n      <td>23.3</td>\n      <td>0.672</td>\n      <td>32</td>\n      <td>1.0</td>\n    </tr>\n    <tr>\n      <th>3</th>\n      <td>1</td>\n      <td>89</td>\n      <td>66</td>\n      <td>23</td>\n      <td>94</td>\n      <td>28.1</td>\n      <td>0.167</td>\n      <td>21</td>\n      <td>0.0</td>\n    </tr>\n    <tr>\n      <th>4</th>\n      <td>0</td>\n      <td>137</td>\n      <td>40</td>\n      <td>35</td>\n      <td>168</td>\n      <td>43.1</td>\n      <td>2.288</td>\n      <td>33</td>\n      <td>1.0</td>\n    </tr>\n  </tbody>\n</table>\n</div>"
     },
     "execution_count": 4,
     "metadata": {},
     "output_type": "execute_result"
    }
   ],
   "source": [
    "print(f\"{header(9, 'SHAPE')}\\n{df_train.shape}\")\n",
    "print(f\"\\n{header(19, 'NULL COUNT')}\\n{df_train.isna().sum()}\")\n",
    "print(f\"\\n{header(39, 'COLUMNS OVERVIEW')}\")\n",
    "print(df_train.info())\n",
    "df_train.head()"
   ],
   "metadata": {
    "collapsed": false,
    "ExecuteTime": {
     "start_time": "2023-04-08T11:40:47.939807Z",
     "end_time": "2023-04-08T11:40:47.955137Z"
    }
   }
  },
  {
   "cell_type": "code",
   "execution_count": 5,
   "outputs": [
    {
     "name": "stdout",
     "output_type": "stream",
     "text": [
      "╔═══════╗\n",
      "║ SHAPE ║\n",
      "╚═══════╝\n",
      "(169, 8)\n",
      "\n",
      "╔═════════════════╗\n",
      "║   NULL COUNT    ║\n",
      "╚═════════════════╝\n",
      "PRG    0\n",
      "PL     0\n",
      "PR     0\n",
      "SK     0\n",
      "TS     0\n",
      "M11    0\n",
      "BD2    0\n",
      "Age    0\n",
      "dtype: int64\n",
      "\n",
      "╔═════════════════════════════════════╗\n",
      "║          COLUMNS OVERVIEW           ║\n",
      "╚═════════════════════════════════════╝\n",
      "<class 'pandas.core.frame.DataFrame'>\n",
      "RangeIndex: 169 entries, 0 to 168\n",
      "Data columns (total 8 columns):\n",
      " #   Column  Non-Null Count  Dtype  \n",
      "---  ------  --------------  -----  \n",
      " 0   PRG     169 non-null    int64  \n",
      " 1   PL      169 non-null    int64  \n",
      " 2   PR      169 non-null    int64  \n",
      " 3   SK      169 non-null    int64  \n",
      " 4   TS      169 non-null    int64  \n",
      " 5   M11     169 non-null    float64\n",
      " 6   BD2     169 non-null    float64\n",
      " 7   Age     169 non-null    int64  \n",
      "dtypes: float64(2), int64(6)\n",
      "memory usage: 10.7 KB\n",
      "None\n"
     ]
    },
    {
     "data": {
      "text/plain": "   PRG   PL  PR  SK   TS   M11    BD2  Age  Sepsis\n0    6  148  72  35    0  33.6  0.627   50     1.0\n1    1   85  66  29    0  26.6  0.351   31     0.0\n2    8  183  64   0    0  23.3  0.672   32     1.0\n3    1   89  66  23   94  28.1  0.167   21     0.0\n4    0  137  40  35  168  43.1  2.288   33     1.0",
      "text/html": "<div>\n<style scoped>\n    .dataframe tbody tr th:only-of-type {\n        vertical-align: middle;\n    }\n\n    .dataframe tbody tr th {\n        vertical-align: top;\n    }\n\n    .dataframe thead th {\n        text-align: right;\n    }\n</style>\n<table border=\"1\" class=\"dataframe\">\n  <thead>\n    <tr style=\"text-align: right;\">\n      <th></th>\n      <th>PRG</th>\n      <th>PL</th>\n      <th>PR</th>\n      <th>SK</th>\n      <th>TS</th>\n      <th>M11</th>\n      <th>BD2</th>\n      <th>Age</th>\n      <th>Sepsis</th>\n    </tr>\n  </thead>\n  <tbody>\n    <tr>\n      <th>0</th>\n      <td>6</td>\n      <td>148</td>\n      <td>72</td>\n      <td>35</td>\n      <td>0</td>\n      <td>33.6</td>\n      <td>0.627</td>\n      <td>50</td>\n      <td>1.0</td>\n    </tr>\n    <tr>\n      <th>1</th>\n      <td>1</td>\n      <td>85</td>\n      <td>66</td>\n      <td>29</td>\n      <td>0</td>\n      <td>26.6</td>\n      <td>0.351</td>\n      <td>31</td>\n      <td>0.0</td>\n    </tr>\n    <tr>\n      <th>2</th>\n      <td>8</td>\n      <td>183</td>\n      <td>64</td>\n      <td>0</td>\n      <td>0</td>\n      <td>23.3</td>\n      <td>0.672</td>\n      <td>32</td>\n      <td>1.0</td>\n    </tr>\n    <tr>\n      <th>3</th>\n      <td>1</td>\n      <td>89</td>\n      <td>66</td>\n      <td>23</td>\n      <td>94</td>\n      <td>28.1</td>\n      <td>0.167</td>\n      <td>21</td>\n      <td>0.0</td>\n    </tr>\n    <tr>\n      <th>4</th>\n      <td>0</td>\n      <td>137</td>\n      <td>40</td>\n      <td>35</td>\n      <td>168</td>\n      <td>43.1</td>\n      <td>2.288</td>\n      <td>33</td>\n      <td>1.0</td>\n    </tr>\n  </tbody>\n</table>\n</div>"
     },
     "execution_count": 5,
     "metadata": {},
     "output_type": "execute_result"
    }
   ],
   "source": [
    "print(f\"{header(9, 'SHAPE')}\\n{df_test.shape}\")\n",
    "print(f\"\\n{header(19, 'NULL COUNT')}\\n{df_test.isna().sum()}\")\n",
    "print(f\"\\n{header(39, 'COLUMNS OVERVIEW')}\")\n",
    "print(df_test.info())\n",
    "df_train.head()"
   ],
   "metadata": {
    "collapsed": false,
    "ExecuteTime": {
     "start_time": "2023-04-08T11:40:57.009466Z",
     "end_time": "2023-04-08T11:40:57.101600Z"
    }
   }
  },
  {
   "cell_type": "code",
   "execution_count": null,
   "outputs": [],
   "source": [
    "print(f\"Missing values count: {df_test.isna().sum().sum() + df_train.isna().sum().sum()}\")"
   ],
   "metadata": {
    "collapsed": false
   }
  },
  {
   "cell_type": "markdown",
   "source": [
    "## 2. Baseline Model<a id=\"baseline-model\"></a>"
   ],
   "metadata": {
    "collapsed": false
   }
  }
 ],
 "metadata": {
  "kernelspec": {
   "display_name": "Python 3",
   "language": "python",
   "name": "python3"
  },
  "language_info": {
   "codemirror_mode": {
    "name": "ipython",
    "version": 2
   },
   "file_extension": ".py",
   "mimetype": "text/x-python",
   "name": "python",
   "nbconvert_exporter": "python",
   "pygments_lexer": "ipython2",
   "version": "2.7.6"
  }
 },
 "nbformat": 4,
 "nbformat_minor": 0
}
